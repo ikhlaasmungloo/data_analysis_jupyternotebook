{
 "cells": [
  {
   "cell_type": "code",
   "execution_count": 7,
   "id": "45793f33",
   "metadata": {},
   "outputs": [],
   "source": [
    "import pandas as pd\n",
    "import numpy as np\n",
    "import seaborn as sns\n",
    "import matplotlib.pyplot as plt"
   ]
  },
  {
   "cell_type": "code",
   "execution_count": 8,
   "id": "7d49d2f3",
   "metadata": {},
   "outputs": [],
   "source": [
    "weather = pd.read_csv('weather.csv')\n",
    "athletes = pd.read_csv('athletes.csv')"
   ]
  },
  {
   "cell_type": "code",
   "execution_count": 9,
   "id": "28bac8ec",
   "metadata": {},
   "outputs": [
    {
     "data": {
      "text/plain": [
       "(8784, 5)"
      ]
     },
     "execution_count": 9,
     "metadata": {},
     "output_type": "execute_result"
    }
   ],
   "source": [
    "weather.shape"
   ]
  },
  {
   "cell_type": "code",
   "execution_count": 106,
   "id": "d217c35c",
   "metadata": {},
   "outputs": [
    {
     "name": "stdout",
     "output_type": "stream",
     "text": [
      "<class 'pandas.core.frame.DataFrame'>\n",
      "RangeIndex: 8784 entries, 0 to 8783\n",
      "Data columns (total 5 columns):\n",
      " #   Column    Non-Null Count  Dtype  \n",
      "---  ------    --------------  -----  \n",
      " 0   MONTH     8784 non-null   int64  \n",
      " 1   DAY       8784 non-null   int64  \n",
      " 2   TIME      8784 non-null   int64  \n",
      " 3   TEMP      8784 non-null   float64\n",
      " 4   PRESSURE  8784 non-null   int64  \n",
      "dtypes: float64(1), int64(4)\n",
      "memory usage: 343.2 KB\n"
     ]
    }
   ],
   "source": [
    "weather.info()"
   ]
  },
  {
   "cell_type": "code",
   "execution_count": 11,
   "id": "3d550e60",
   "metadata": {
    "scrolled": false
   },
   "outputs": [
    {
     "data": {
      "text/html": [
       "<div>\n",
       "<style scoped>\n",
       "    .dataframe tbody tr th:only-of-type {\n",
       "        vertical-align: middle;\n",
       "    }\n",
       "\n",
       "    .dataframe tbody tr th {\n",
       "        vertical-align: top;\n",
       "    }\n",
       "\n",
       "    .dataframe thead th {\n",
       "        text-align: right;\n",
       "    }\n",
       "</style>\n",
       "<table border=\"1\" class=\"dataframe\">\n",
       "  <thead>\n",
       "    <tr style=\"text-align: right;\">\n",
       "      <th></th>\n",
       "      <th>MONTH</th>\n",
       "      <th>DAY</th>\n",
       "      <th>TIME</th>\n",
       "      <th>TEMP</th>\n",
       "      <th>PRESSURE</th>\n",
       "    </tr>\n",
       "  </thead>\n",
       "  <tbody>\n",
       "    <tr>\n",
       "      <th>0</th>\n",
       "      <td>1</td>\n",
       "      <td>1</td>\n",
       "      <td>1</td>\n",
       "      <td>6.8</td>\n",
       "      <td>10207</td>\n",
       "    </tr>\n",
       "    <tr>\n",
       "      <th>1</th>\n",
       "      <td>1</td>\n",
       "      <td>1</td>\n",
       "      <td>2</td>\n",
       "      <td>5.8</td>\n",
       "      <td>10214</td>\n",
       "    </tr>\n",
       "    <tr>\n",
       "      <th>2</th>\n",
       "      <td>1</td>\n",
       "      <td>1</td>\n",
       "      <td>3</td>\n",
       "      <td>5.7</td>\n",
       "      <td>10220</td>\n",
       "    </tr>\n",
       "    <tr>\n",
       "      <th>3</th>\n",
       "      <td>1</td>\n",
       "      <td>1</td>\n",
       "      <td>4</td>\n",
       "      <td>6.0</td>\n",
       "      <td>10225</td>\n",
       "    </tr>\n",
       "    <tr>\n",
       "      <th>4</th>\n",
       "      <td>1</td>\n",
       "      <td>1</td>\n",
       "      <td>5</td>\n",
       "      <td>4.5</td>\n",
       "      <td>10230</td>\n",
       "    </tr>\n",
       "    <tr>\n",
       "      <th>...</th>\n",
       "      <td>...</td>\n",
       "      <td>...</td>\n",
       "      <td>...</td>\n",
       "      <td>...</td>\n",
       "      <td>...</td>\n",
       "    </tr>\n",
       "    <tr>\n",
       "      <th>8779</th>\n",
       "      <td>12</td>\n",
       "      <td>366</td>\n",
       "      <td>20</td>\n",
       "      <td>3.5</td>\n",
       "      <td>10265</td>\n",
       "    </tr>\n",
       "    <tr>\n",
       "      <th>8780</th>\n",
       "      <td>12</td>\n",
       "      <td>366</td>\n",
       "      <td>21</td>\n",
       "      <td>3.4</td>\n",
       "      <td>10258</td>\n",
       "    </tr>\n",
       "    <tr>\n",
       "      <th>8781</th>\n",
       "      <td>12</td>\n",
       "      <td>366</td>\n",
       "      <td>22</td>\n",
       "      <td>3.0</td>\n",
       "      <td>10253</td>\n",
       "    </tr>\n",
       "    <tr>\n",
       "      <th>8782</th>\n",
       "      <td>12</td>\n",
       "      <td>366</td>\n",
       "      <td>23</td>\n",
       "      <td>2.8</td>\n",
       "      <td>10246</td>\n",
       "    </tr>\n",
       "    <tr>\n",
       "      <th>8783</th>\n",
       "      <td>12</td>\n",
       "      <td>366</td>\n",
       "      <td>24</td>\n",
       "      <td>2.8</td>\n",
       "      <td>10239</td>\n",
       "    </tr>\n",
       "  </tbody>\n",
       "</table>\n",
       "<p>8784 rows × 5 columns</p>\n",
       "</div>"
      ],
      "text/plain": [
       "      MONTH  DAY  TIME  TEMP  PRESSURE\n",
       "0         1    1     1   6.8     10207\n",
       "1         1    1     2   5.8     10214\n",
       "2         1    1     3   5.7     10220\n",
       "3         1    1     4   6.0     10225\n",
       "4         1    1     5   4.5     10230\n",
       "...     ...  ...   ...   ...       ...\n",
       "8779     12  366    20   3.5     10265\n",
       "8780     12  366    21   3.4     10258\n",
       "8781     12  366    22   3.0     10253\n",
       "8782     12  366    23   2.8     10246\n",
       "8783     12  366    24   2.8     10239\n",
       "\n",
       "[8784 rows x 5 columns]"
      ]
     },
     "execution_count": 11,
     "metadata": {},
     "output_type": "execute_result"
    }
   ],
   "source": [
    "weather"
   ]
  },
  {
   "cell_type": "code",
   "execution_count": 85,
   "id": "8488c09a",
   "metadata": {},
   "outputs": [
    {
     "data": {
      "text/html": [
       "<div>\n",
       "<style scoped>\n",
       "    .dataframe tbody tr th:only-of-type {\n",
       "        vertical-align: middle;\n",
       "    }\n",
       "\n",
       "    .dataframe tbody tr th {\n",
       "        vertical-align: top;\n",
       "    }\n",
       "\n",
       "    .dataframe thead th {\n",
       "        text-align: right;\n",
       "    }\n",
       "</style>\n",
       "<table border=\"1\" class=\"dataframe\">\n",
       "  <thead>\n",
       "    <tr style=\"text-align: right;\">\n",
       "      <th></th>\n",
       "      <th>MONTH</th>\n",
       "      <th>DAY</th>\n",
       "      <th>TIME</th>\n",
       "      <th>TEMP</th>\n",
       "      <th>PRESSURE</th>\n",
       "    </tr>\n",
       "  </thead>\n",
       "  <tbody>\n",
       "    <tr>\n",
       "      <th>count</th>\n",
       "      <td>8784.000000</td>\n",
       "      <td>8784.000000</td>\n",
       "      <td>8784.000000</td>\n",
       "      <td>8784.000000</td>\n",
       "      <td>8784.000000</td>\n",
       "    </tr>\n",
       "    <tr>\n",
       "      <th>mean</th>\n",
       "      <td>6.513661</td>\n",
       "      <td>183.500000</td>\n",
       "      <td>12.500000</td>\n",
       "      <td>10.768613</td>\n",
       "      <td>10159.254781</td>\n",
       "    </tr>\n",
       "    <tr>\n",
       "      <th>std</th>\n",
       "      <td>3.451430</td>\n",
       "      <td>105.660719</td>\n",
       "      <td>6.922581</td>\n",
       "      <td>6.420003</td>\n",
       "      <td>102.895130</td>\n",
       "    </tr>\n",
       "    <tr>\n",
       "      <th>min</th>\n",
       "      <td>1.000000</td>\n",
       "      <td>1.000000</td>\n",
       "      <td>1.000000</td>\n",
       "      <td>-6.500000</td>\n",
       "      <td>9812.000000</td>\n",
       "    </tr>\n",
       "    <tr>\n",
       "      <th>25%</th>\n",
       "      <td>4.000000</td>\n",
       "      <td>92.000000</td>\n",
       "      <td>6.750000</td>\n",
       "      <td>6.100000</td>\n",
       "      <td>10102.000000</td>\n",
       "    </tr>\n",
       "    <tr>\n",
       "      <th>50%</th>\n",
       "      <td>7.000000</td>\n",
       "      <td>183.500000</td>\n",
       "      <td>12.500000</td>\n",
       "      <td>10.200000</td>\n",
       "      <td>10169.000000</td>\n",
       "    </tr>\n",
       "    <tr>\n",
       "      <th>75%</th>\n",
       "      <td>10.000000</td>\n",
       "      <td>275.000000</td>\n",
       "      <td>18.250000</td>\n",
       "      <td>15.900000</td>\n",
       "      <td>10227.000000</td>\n",
       "    </tr>\n",
       "    <tr>\n",
       "      <th>max</th>\n",
       "      <td>12.000000</td>\n",
       "      <td>366.000000</td>\n",
       "      <td>24.000000</td>\n",
       "      <td>31.700000</td>\n",
       "      <td>10453.000000</td>\n",
       "    </tr>\n",
       "  </tbody>\n",
       "</table>\n",
       "</div>"
      ],
      "text/plain": [
       "             MONTH          DAY         TIME         TEMP      PRESSURE\n",
       "count  8784.000000  8784.000000  8784.000000  8784.000000   8784.000000\n",
       "mean      6.513661   183.500000    12.500000    10.768613  10159.254781\n",
       "std       3.451430   105.660719     6.922581     6.420003    102.895130\n",
       "min       1.000000     1.000000     1.000000    -6.500000   9812.000000\n",
       "25%       4.000000    92.000000     6.750000     6.100000  10102.000000\n",
       "50%       7.000000   183.500000    12.500000    10.200000  10169.000000\n",
       "75%      10.000000   275.000000    18.250000    15.900000  10227.000000\n",
       "max      12.000000   366.000000    24.000000    31.700000  10453.000000"
      ]
     },
     "execution_count": 85,
     "metadata": {},
     "output_type": "execute_result"
    }
   ],
   "source": [
    "weather.describe()"
   ]
  },
  {
   "cell_type": "code",
   "execution_count": 24,
   "id": "a0255307",
   "metadata": {
    "scrolled": true
   },
   "outputs": [
    {
     "data": {
      "text/plain": [
       "9812"
      ]
     },
     "execution_count": 24,
     "metadata": {},
     "output_type": "execute_result"
    }
   ],
   "source": [
    "weather.PRESSURE.min()"
   ]
  },
  {
   "cell_type": "code",
   "execution_count": 28,
   "id": "7bb14ce2",
   "metadata": {},
   "outputs": [
    {
     "data": {
      "text/plain": [
       "0    10215\n",
       "dtype: int64"
      ]
     },
     "execution_count": 28,
     "metadata": {},
     "output_type": "execute_result"
    }
   ],
   "source": [
    "weather['PRESSURE'].mode()"
   ]
  },
  {
   "cell_type": "code",
   "execution_count": 164,
   "id": "bbbb4ef8",
   "metadata": {},
   "outputs": [
    {
     "data": {
      "image/png": "[encoded data removed]",
      "text/plain": [
       "<Figure size 720x576 with 1 Axes>"
      ]
     },
     "metadata": {
      "needs_background": "light"
     },
     "output_type": "display_data"
    }
   ],
   "source": [
    "plt.figure(figsize=(10, 8))\n",
    "\n",
    "sns.scatterplot(x='TIME', y='TEMP', data=weather)\n",
    "\n",
    "plt.xlabel('Time')\n",
    "plt.ylabel('Teperature')\n",
    "\n",
    "plt.show()"
   ]
  },
  {
   "cell_type": "code",
   "execution_count": 165,
   "id": "08327dec",
   "metadata": {},
   "outputs": [
    {
     "data": {
      "image/png": "[encoded data removed]",
      "text/plain": [
       "<Figure size 720x576 with 1 Axes>"
      ]
     },
     "metadata": {
      "needs_background": "light"
     },
     "output_type": "display_data"
    }
   ],
   "source": [
    "plt.figure(figsize=(10, 8))\n",
    "\n",
    "sns.histplot(x='TEMP', data=weather)\n",
    "plt.xlabel('Temperature')\n",
    "\n",
    "plt.show()"
   ]
  },
  {
   "cell_type": "code",
   "execution_count": 58,
   "id": "3cce5534",
   "metadata": {},
   "outputs": [
    {
     "data": {
      "text/html": [
       "<div>\n",
       "<style scoped>\n",
       "    .dataframe tbody tr th:only-of-type {\n",
       "        vertical-align: middle;\n",
       "    }\n",
       "\n",
       "    .dataframe tbody tr th {\n",
       "        vertical-align: top;\n",
       "    }\n",
       "\n",
       "    .dataframe thead th {\n",
       "        text-align: right;\n",
       "    }\n",
       "</style>\n",
       "<table border=\"1\" class=\"dataframe\">\n",
       "  <thead>\n",
       "    <tr style=\"text-align: right;\">\n",
       "      <th></th>\n",
       "      <th>TEMP</th>\n",
       "    </tr>\n",
       "  </thead>\n",
       "  <tbody>\n",
       "    <tr>\n",
       "      <th>0</th>\n",
       "      <td>6.8</td>\n",
       "    </tr>\n",
       "    <tr>\n",
       "      <th>1</th>\n",
       "      <td>5.8</td>\n",
       "    </tr>\n",
       "    <tr>\n",
       "      <th>2</th>\n",
       "      <td>5.7</td>\n",
       "    </tr>\n",
       "    <tr>\n",
       "      <th>3</th>\n",
       "      <td>6.0</td>\n",
       "    </tr>\n",
       "    <tr>\n",
       "      <th>4</th>\n",
       "      <td>4.5</td>\n",
       "    </tr>\n",
       "  </tbody>\n",
       "</table>\n",
       "</div>"
      ],
      "text/plain": [
       "   TEMP\n",
       "0   6.8\n",
       "1   5.8\n",
       "2   5.7\n",
       "3   6.0\n",
       "4   4.5"
      ]
     },
     "execution_count": 58,
     "metadata": {},
     "output_type": "execute_result"
    }
   ],
   "source": [
    "weather.loc[0:4,[\"TEMP\"]] "
   ]
  },
  {
   "cell_type": "code",
   "execution_count": 167,
   "id": "564616ce",
   "metadata": {},
   "outputs": [
    {
     "data": {
      "text/html": [
       "<div>\n",
       "<style scoped>\n",
       "    .dataframe tbody tr th:only-of-type {\n",
       "        vertical-align: middle;\n",
       "    }\n",
       "\n",
       "    .dataframe tbody tr th {\n",
       "        vertical-align: top;\n",
       "    }\n",
       "\n",
       "    .dataframe thead th {\n",
       "        text-align: right;\n",
       "    }\n",
       "</style>\n",
       "<table border=\"1\" class=\"dataframe\">\n",
       "  <thead>\n",
       "    <tr style=\"text-align: right;\">\n",
       "      <th></th>\n",
       "      <th>TEMP</th>\n",
       "    </tr>\n",
       "  </thead>\n",
       "  <tbody>\n",
       "    <tr>\n",
       "      <th>0</th>\n",
       "      <td>6.8</td>\n",
       "    </tr>\n",
       "  </tbody>\n",
       "</table>\n",
       "</div>"
      ],
      "text/plain": [
       "   TEMP\n",
       "0   6.8"
      ]
     },
     "execution_count": 167,
     "metadata": {},
     "output_type": "execute_result"
    }
   ],
   "source": [
    "weather.loc[0:0,[\"TEMP\"]]"
   ]
  },
  {
   "cell_type": "code",
   "execution_count": 170,
   "id": "18e990e8",
   "metadata": {},
   "outputs": [],
   "source": [
    "temp2_3=weather.loc[2:3,[\"TEMP\"]]"
   ]
  },
  {
   "cell_type": "code",
   "execution_count": 174,
   "id": "a30045a7",
   "metadata": {},
   "outputs": [
    {
     "data": {
      "text/html": [
       "<div>\n",
       "<style scoped>\n",
       "    .dataframe tbody tr th:only-of-type {\n",
       "        vertical-align: middle;\n",
       "    }\n",
       "\n",
       "    .dataframe tbody tr th {\n",
       "        vertical-align: top;\n",
       "    }\n",
       "\n",
       "    .dataframe thead th {\n",
       "        text-align: right;\n",
       "    }\n",
       "</style>\n",
       "<table border=\"1\" class=\"dataframe\">\n",
       "  <thead>\n",
       "    <tr style=\"text-align: right;\">\n",
       "      <th></th>\n",
       "      <th>TEMP</th>\n",
       "    </tr>\n",
       "  </thead>\n",
       "  <tbody>\n",
       "    <tr>\n",
       "      <th>2</th>\n",
       "      <td>5.7</td>\n",
       "    </tr>\n",
       "    <tr>\n",
       "      <th>3</th>\n",
       "      <td>6.0</td>\n",
       "    </tr>\n",
       "  </tbody>\n",
       "</table>\n",
       "</div>"
      ],
      "text/plain": [
       "   TEMP\n",
       "2   5.7\n",
       "3   6.0"
      ]
     },
     "execution_count": 174,
     "metadata": {},
     "output_type": "execute_result"
    }
   ],
   "source": [
    "temp2_3"
   ]
  },
  {
   "cell_type": "code",
   "execution_count": 16,
   "id": "02bcc183",
   "metadata": {},
   "outputs": [],
   "source": [
    "tempandpressure2_3=weather.loc[2:3,[\"TEMP\",\"PRESSURE\"]]"
   ]
  },
  {
   "cell_type": "code",
   "execution_count": 11,
   "id": "0301a58a",
   "metadata": {},
   "outputs": [
    {
     "data": {
      "text/html": [
       "<div>\n",
       "<style scoped>\n",
       "    .dataframe tbody tr th:only-of-type {\n",
       "        vertical-align: middle;\n",
       "    }\n",
       "\n",
       "    .dataframe tbody tr th {\n",
       "        vertical-align: top;\n",
       "    }\n",
       "\n",
       "    .dataframe thead th {\n",
       "        text-align: right;\n",
       "    }\n",
       "</style>\n",
       "<table border=\"1\" class=\"dataframe\">\n",
       "  <thead>\n",
       "    <tr style=\"text-align: right;\">\n",
       "      <th></th>\n",
       "      <th>TEMP</th>\n",
       "      <th>PRESSURE</th>\n",
       "    </tr>\n",
       "  </thead>\n",
       "  <tbody>\n",
       "    <tr>\n",
       "      <th>2</th>\n",
       "      <td>5.7</td>\n",
       "      <td>10220</td>\n",
       "    </tr>\n",
       "    <tr>\n",
       "      <th>3</th>\n",
       "      <td>6.0</td>\n",
       "      <td>10225</td>\n",
       "    </tr>\n",
       "  </tbody>\n",
       "</table>\n",
       "</div>"
      ],
      "text/plain": [
       "   TEMP  PRESSURE\n",
       "2   5.7     10220\n",
       "3   6.0     10225"
      ]
     },
     "execution_count": 11,
     "metadata": {},
     "output_type": "execute_result"
    }
   ],
   "source": [
    "tempandpressure2_3"
   ]
  },
  {
   "cell_type": "code",
   "execution_count": 24,
   "id": "b86aadde",
   "metadata": {},
   "outputs": [
    {
     "name": "stdout",
     "output_type": "stream",
     "text": [
      "      MONTH  DAY  TIME  TEMP  PRESSURE\n",
      "0         1    1     1   6.8     10207\n",
      "10        1    1    11   7.2     10245\n",
      "11        1    1    12   7.9     10239\n",
      "12        1    1    13   7.7     10231\n",
      "13        1    1    14   7.2     10225\n",
      "...     ...  ...   ...   ...       ...\n",
      "8676     12  362    13   9.0     10424\n",
      "8677     12  362    14   8.4     10426\n",
      "8678     12  362    15   8.0     10431\n",
      "8679     12  362    16   6.3     10430\n",
      "8680     12  362    17   6.1     10436\n",
      "\n",
      "[6623 rows x 5 columns]\n"
     ]
    }
   ],
   "source": [
    "tempgreaterthan6 = weather.loc[(weather['TEMP'] > 6)]\n",
    "print(tempgreaterthan6)"
   ]
  },
  {
   "cell_type": "code",
   "execution_count": 25,
   "id": "564ae3cd",
   "metadata": {},
   "outputs": [],
   "source": [
    "weather.TEMP=weather.TEMP + 1"
   ]
  },
  {
   "cell_type": "code",
   "execution_count": 29,
   "id": "fb78aba8",
   "metadata": {},
   "outputs": [
    {
     "data": {
      "text/plain": [
       "0       7.8\n",
       "1       6.8\n",
       "2       6.7\n",
       "3       7.0\n",
       "4       5.5\n",
       "       ... \n",
       "8779    4.5\n",
       "8780    4.4\n",
       "8781    4.0\n",
       "8782    3.8\n",
       "8783    3.8\n",
       "Name: TEMP, Length: 8784, dtype: float64"
      ]
     },
     "execution_count": 29,
     "metadata": {},
     "output_type": "execute_result"
    }
   ],
   "source": [
    "weather.TEMP"
   ]
  },
  {
   "cell_type": "code",
   "execution_count": 31,
   "id": "af927865",
   "metadata": {},
   "outputs": [
    {
     "data": {
      "text/html": [
       "<div>\n",
       "<style scoped>\n",
       "    .dataframe tbody tr th:only-of-type {\n",
       "        vertical-align: middle;\n",
       "    }\n",
       "\n",
       "    .dataframe tbody tr th {\n",
       "        vertical-align: top;\n",
       "    }\n",
       "\n",
       "    .dataframe thead th {\n",
       "        text-align: right;\n",
       "    }\n",
       "</style>\n",
       "<table border=\"1\" class=\"dataframe\">\n",
       "  <thead>\n",
       "    <tr style=\"text-align: right;\">\n",
       "      <th></th>\n",
       "      <th>MONTH</th>\n",
       "      <th>DAY</th>\n",
       "      <th>TIME</th>\n",
       "      <th>TEMP</th>\n",
       "      <th>PRESSURE</th>\n",
       "    </tr>\n",
       "  </thead>\n",
       "  <tbody>\n",
       "    <tr>\n",
       "      <th>8016</th>\n",
       "      <td>11</td>\n",
       "      <td>335</td>\n",
       "      <td>1</td>\n",
       "      <td>-5.5</td>\n",
       "      <td>10335</td>\n",
       "    </tr>\n",
       "    <tr>\n",
       "      <th>8013</th>\n",
       "      <td>11</td>\n",
       "      <td>334</td>\n",
       "      <td>22</td>\n",
       "      <td>-5.5</td>\n",
       "      <td>10344</td>\n",
       "    </tr>\n",
       "    <tr>\n",
       "      <th>437</th>\n",
       "      <td>1</td>\n",
       "      <td>19</td>\n",
       "      <td>6</td>\n",
       "      <td>-5.4</td>\n",
       "      <td>10160</td>\n",
       "    </tr>\n",
       "    <tr>\n",
       "      <th>438</th>\n",
       "      <td>1</td>\n",
       "      <td>19</td>\n",
       "      <td>7</td>\n",
       "      <td>-5.3</td>\n",
       "      <td>10160</td>\n",
       "    </tr>\n",
       "    <tr>\n",
       "      <th>436</th>\n",
       "      <td>1</td>\n",
       "      <td>19</td>\n",
       "      <td>5</td>\n",
       "      <td>-5.1</td>\n",
       "      <td>10161</td>\n",
       "    </tr>\n",
       "    <tr>\n",
       "      <th>...</th>\n",
       "      <td>...</td>\n",
       "      <td>...</td>\n",
       "      <td>...</td>\n",
       "      <td>...</td>\n",
       "      <td>...</td>\n",
       "    </tr>\n",
       "    <tr>\n",
       "      <th>4834</th>\n",
       "      <td>7</td>\n",
       "      <td>202</td>\n",
       "      <td>11</td>\n",
       "      <td>31.9</td>\n",
       "      <td>10105</td>\n",
       "    </tr>\n",
       "    <tr>\n",
       "      <th>5701</th>\n",
       "      <td>8</td>\n",
       "      <td>238</td>\n",
       "      <td>14</td>\n",
       "      <td>31.9</td>\n",
       "      <td>10143</td>\n",
       "    </tr>\n",
       "    <tr>\n",
       "      <th>4836</th>\n",
       "      <td>7</td>\n",
       "      <td>202</td>\n",
       "      <td>13</td>\n",
       "      <td>32.4</td>\n",
       "      <td>10105</td>\n",
       "    </tr>\n",
       "    <tr>\n",
       "      <th>5702</th>\n",
       "      <td>8</td>\n",
       "      <td>238</td>\n",
       "      <td>15</td>\n",
       "      <td>32.5</td>\n",
       "      <td>10138</td>\n",
       "    </tr>\n",
       "    <tr>\n",
       "      <th>4835</th>\n",
       "      <td>7</td>\n",
       "      <td>202</td>\n",
       "      <td>12</td>\n",
       "      <td>32.7</td>\n",
       "      <td>10101</td>\n",
       "    </tr>\n",
       "  </tbody>\n",
       "</table>\n",
       "<p>8784 rows × 5 columns</p>\n",
       "</div>"
      ],
      "text/plain": [
       "      MONTH  DAY  TIME  TEMP  PRESSURE\n",
       "8016     11  335     1  -5.5     10335\n",
       "8013     11  334    22  -5.5     10344\n",
       "437       1   19     6  -5.4     10160\n",
       "438       1   19     7  -5.3     10160\n",
       "436       1   19     5  -5.1     10161\n",
       "...     ...  ...   ...   ...       ...\n",
       "4834      7  202    11  31.9     10105\n",
       "5701      8  238    14  31.9     10143\n",
       "4836      7  202    13  32.4     10105\n",
       "5702      8  238    15  32.5     10138\n",
       "4835      7  202    12  32.7     10101\n",
       "\n",
       "[8784 rows x 5 columns]"
      ]
     },
     "execution_count": 31,
     "metadata": {},
     "output_type": "execute_result"
    }
   ],
   "source": [
    "weather.sort_values(by=['TEMP'])"
   ]
  },
  {
   "cell_type": "code",
   "execution_count": 80,
   "id": "23461a6f",
   "metadata": {
    "scrolled": false
   },
   "outputs": [
    {
     "data": {
      "image/png": "[encoded data removed]",
      "text/plain": [
       "<Figure size 720x576 with 1 Axes>"
      ]
     },
     "metadata": {
      "needs_background": "light"
     },
     "output_type": "display_data"
    }
   ],
   "source": [
    "plt.figure(figsize=(10, 8))\n",
    "\n",
    "sns.scatterplot(x='height', y='weight', data=athletes)\n",
    "\n",
    "plt.xlabel('Height')\n",
    "plt.ylabel('Weight')\n",
    "\n",
    "plt.show()"
   ]
  },
  {
   "cell_type": "code",
   "execution_count": 83,
   "id": "1e818c74",
   "metadata": {
    "scrolled": true
   },
   "outputs": [
    {
     "data": {
      "image/png": "[encoded data removed]",
      "text/plain": [
       "<Figure size 432x288 with 1 Axes>"
      ]
     },
     "metadata": {
      "needs_background": "light"
     },
     "output_type": "display_data"
    }
   ],
   "source": [
    "sns.boxplot(x=\"height\", data=athletes);"
   ]
  },
  {
   "cell_type": "code",
   "execution_count": 108,
   "id": "eb893be9",
   "metadata": {},
   "outputs": [],
   "source": [
    "heights=athletes.height"
   ]
  },
  {
   "cell_type": "code",
   "execution_count": 109,
   "id": "a7d3775f",
   "metadata": {},
   "outputs": [],
   "source": [
    "q1 = heights.quantile(.25)\n",
    "q3 = heights.quantile(.75)\n",
    "iqr = q3 - q1 \n",
    "pmin = q1 - 1.5 * iqr\n",
    "pmax = q3 + 1.5 * iqr"
   ]
  },
  {
   "cell_type": "code",
   "execution_count": 110,
   "id": "9419b0d3",
   "metadata": {},
   "outputs": [],
   "source": [
    "new_heights = heights.where(heights.between(pmin, pmax))"
   ]
  },
  {
   "cell_type": "code",
   "execution_count": 159,
   "id": "365675a7",
   "metadata": {},
   "outputs": [],
   "source": [
    "compare = pd.DataFrame({'before':heights, 'after':new_heights})"
   ]
  },
  {
   "cell_type": "code",
   "execution_count": 160,
   "id": "aebc9b78",
   "metadata": {
    "scrolled": false
   },
   "outputs": [
    {
     "data": {
      "text/plain": [
       "<AxesSubplot:>"
      ]
     },
     "execution_count": 160,
     "metadata": {},
     "output_type": "execute_result"
    },
    {
     "data": {
      "image/png": "[encoded data removed]",
      "text/plain": [
       "<Figure size 432x288 with 1 Axes>"
      ]
     },
     "metadata": {
      "needs_background": "light"
     },
     "output_type": "display_data"
    }
   ],
   "source": [
    "compare.plot.box()"
   ]
  },
  {
   "cell_type": "code",
   "execution_count": 162,
   "id": "51e9c43d",
   "metadata": {},
   "outputs": [
    {
     "data": {
      "text/html": [
       "<div>\n",
       "<style scoped>\n",
       "    .dataframe tbody tr th:only-of-type {\n",
       "        vertical-align: middle;\n",
       "    }\n",
       "\n",
       "    .dataframe tbody tr th {\n",
       "        vertical-align: top;\n",
       "    }\n",
       "\n",
       "    .dataframe thead th {\n",
       "        text-align: right;\n",
       "    }\n",
       "</style>\n",
       "<table border=\"1\" class=\"dataframe\">\n",
       "  <thead>\n",
       "    <tr style=\"text-align: right;\">\n",
       "      <th></th>\n",
       "      <th>before</th>\n",
       "      <th>after</th>\n",
       "    </tr>\n",
       "  </thead>\n",
       "  <tbody>\n",
       "    <tr>\n",
       "      <th>count</th>\n",
       "      <td>11213.000000</td>\n",
       "      <td>11121.000000</td>\n",
       "    </tr>\n",
       "    <tr>\n",
       "      <th>mean</th>\n",
       "      <td>1.766294</td>\n",
       "      <td>1.765098</td>\n",
       "    </tr>\n",
       "    <tr>\n",
       "      <th>std</th>\n",
       "      <td>0.112702</td>\n",
       "      <td>0.108867</td>\n",
       "    </tr>\n",
       "    <tr>\n",
       "      <th>min</th>\n",
       "      <td>1.210000</td>\n",
       "      <td>1.470000</td>\n",
       "    </tr>\n",
       "    <tr>\n",
       "      <th>25%</th>\n",
       "      <td>1.690000</td>\n",
       "      <td>1.690000</td>\n",
       "    </tr>\n",
       "    <tr>\n",
       "      <th>50%</th>\n",
       "      <td>1.760000</td>\n",
       "      <td>1.760000</td>\n",
       "    </tr>\n",
       "    <tr>\n",
       "      <th>75%</th>\n",
       "      <td>1.840000</td>\n",
       "      <td>1.840000</td>\n",
       "    </tr>\n",
       "    <tr>\n",
       "      <th>max</th>\n",
       "      <td>2.210000</td>\n",
       "      <td>2.060000</td>\n",
       "    </tr>\n",
       "  </tbody>\n",
       "</table>\n",
       "</div>"
      ],
      "text/plain": [
       "             before         after\n",
       "count  11213.000000  11121.000000\n",
       "mean       1.766294      1.765098\n",
       "std        0.112702      0.108867\n",
       "min        1.210000      1.470000\n",
       "25%        1.690000      1.690000\n",
       "50%        1.760000      1.760000\n",
       "75%        1.840000      1.840000\n",
       "max        2.210000      2.060000"
      ]
     },
     "execution_count": 162,
     "metadata": {},
     "output_type": "execute_result"
    }
   ],
   "source": [
    "compare.describe()"
   ]
  }
 ],
 "metadata": {
  "kernelspec": {
   "display_name": "Python 3 (ipykernel)",
   "language": "python",
   "name": "python3"
  },
  "language_info": {
   "codemirror_mode": {
    "name": "ipython",
    "version": 3
   },
   "file_extension": ".py",
   "mimetype": "text/x-python",
   "name": "python",
   "nbconvert_exporter": "python",
   "pygments_lexer": "ipython3",
   "version": "3.9.9"
  }
 },
 "nbformat": 4,
 "nbformat_minor": 5
}
